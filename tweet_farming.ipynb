{
  "nbformat": 4,
  "nbformat_minor": 0,
  "metadata": {
    "colab": {
      "name": "tweet_farming.ipynb",
      "provenance": [],
      "authorship_tag": "ABX9TyP5PVCbuixFk6Qw8Vy/N3tZ"
    },
    "kernelspec": {
      "name": "python3",
      "display_name": "Python 3"
    },
    "language_info": {
      "name": "python"
    }
  },
  "cells": [
    {
      "cell_type": "code",
      "metadata": {
        "id": "qwC6jAwW2NiB"
      },
      "source": [
        "import pandas as pd\n",
        "import numpy as np\n",
        "import tweepy\n",
        "import datetime\n",
        "import csv\n",
        "from dateutil.relativedelta import relativedelta"
      ],
      "execution_count": null,
      "outputs": []
    },
    {
      "cell_type": "code",
      "metadata": {
        "id": "VL8XlKam4Jbh"
      },
      "source": [
        "consumer_key = \"\" \n",
        "consumer_secret = \"\"\n",
        "access_token = \"\" \n",
        "access_token_secret = \"\" "
      ],
      "execution_count": 2,
      "outputs": []
    },
    {
      "cell_type": "code",
      "metadata": {
        "id": "ZWgC40s04Jdn"
      },
      "source": [
        "auth = tweepy.OAuthHandler(consumer_key, consumer_secret)\n",
        "auth.set_access_token(access_token, access_token_secret)\n",
        "api = tweepy.API(auth, wait_on_rate_limit=True)"
      ],
      "execution_count": null,
      "outputs": []
    },
    {
      "cell_type": "code",
      "metadata": {
        "id": "l5qNrfAB4JkR"
      },
      "source": [
        "places = api.geo_search(query=\"Canada\", granularity=\"country\")\n",
        "place_id = places[0].id"
      ],
      "execution_count": null,
      "outputs": []
    },
    {
      "cell_type": "code",
      "metadata": {
        "id": "dhGqWhAl4JiH"
      },
      "source": [
        "search_words = (\"(pandemic OR covid-19 OR covid19 OR covid OR vaccine OR coronavirus OR corona OR covidvaccine OR mask OR facemask OR immunization OR face mask OR herd immunity) AND -filter:retweets\")\n",
        "#YYYY-MM-DD\n",
        "date_since = \"2019-01-01\"\n",
        "tweets = tweepy.Cursor(api.search,\n",
        "                       q=f'{search_words} place:{place_id}', \n",
        "                       lang=\"en\", \n",
        "                       since=date_since,\n",
        "                       tweet_mode='extended').items(8000)\n",
        "filename = 'more_keywords_testing_data_'+(datetime.datetime.now().strftime(\"%Y-%m-%d-%H\"))+'.csv'\n",
        "with open (filename, 'a+', newline='') as csvFile:\n",
        "   csvWriter = csv.writer(csvFile)\n",
        "   for tweet in tweets:\n",
        "    #  print(tweet.full_text + \" | \" + tweet.place.name if tweet.place else \"Undefined place\")\n",
        "     csvWriter.writerow([datetime.datetime.now().strftime(\"%Y-%m-%d  %H:%M\"), \n",
        "                          tweet.id,\n",
        "                          tweet.full_text,\n",
        "                          tweet.created_at, \n",
        "                          tweet.geo, \n",
        "                          tweet.place.name if tweet.place else \"Undefined place\", \n",
        "                          tweet.coordinates, \n",
        "                          tweet._json[\"user\"][\"location\"]])          "
      ],
      "execution_count": null,
      "outputs": []
    },
    {
      "cell_type": "code",
      "metadata": {
        "colab": {
          "base_uri": "https://localhost:8080/"
        },
        "id": "of-J4iv77f6M",
        "outputId": "348fbe4f-370c-4cd8-f0b3-153971e914a2"
      },
      "source": [
        "for tweet in tweets:\n",
        "    print(tweet.text + \" | \" + tweet.place.name if tweet.place else \"Undefined place\")"
      ],
      "execution_count": null,
      "outputs": [
        {
          "output_type": "stream",
          "name": "stdout",
          "text": [
            "@DrTomFrieden .@DrTomFrieden if you’re interested in stopping transmission altogether, we now know vaccines can’t p… https://t.co/H7KFP0umGP | Greater Sudbury / Grand Sudbury\n",
            "The plan will “protect Ontario’s hard-won progress against COVID, while building the foundation for economic growth… https://t.co/5Zgcjlpdou | Toronto\n",
            "@AmmSyed MashaAllah you were lucky to be spared of the disease because vaccines alone do not prevent covid. Lots of… https://t.co/lFVLJF1ajo | Brampton\n",
            "NEW: The Ford government’s fall economic statement will be delivered on Nov. 4. Expect to learn the government’s pl… https://t.co/sKVf3ddGrS | Toronto\n",
            "@KatePorterCBC @JonathanWilling Is this in camera session regarding vaccine mandates and staff refusing to disclose their status? #OttNews | Ottawa\n",
            "Covid is not an attack against religion . | Toronto\n",
            "@ciciwanita @naodnosaj @GodlessAbuse @DJ34313113 @micwake @cbend88 @MarkFriesen08 Then that is simply consequences… https://t.co/jwMXEWg463 | Toronto\n",
            "The lies are revealed and the UCP and NDP and Liberals and MSM are all perpetrators of the lies along with the corr… https://t.co/0b1xS2Rzid | Cochrane\n",
            "@cbend88 @GodlessAbuse @naodnosaj @DJ34313113 @micwake @MarkFriesen08 Covid seems to be taking care of this stupid… https://t.co/JibVbFAhtH | Toronto\n",
            "From @georgiastraight Insta. The Penthouse is a strip clinic in Vancity, and we have a vaccine passport mandate in… https://t.co/w3Pml5zFLj | Summerland\n"
          ]
        }
      ]
    }
  ]
}